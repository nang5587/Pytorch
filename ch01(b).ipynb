{
 "cells": [
  {
   "cell_type": "markdown",
   "id": "8c5261e7",
   "metadata": {},
   "source": [
    "## 파이토치를 사용한 회귀(v0.5)"
   ]
  },
  {
   "cell_type": "code",
   "execution_count": 42,
   "id": "6b1c9f52",
   "metadata": {},
   "outputs": [
    {
     "name": "stdout",
     "output_type": "stream",
     "text": [
      "cpu\n"
     ]
    }
   ],
   "source": [
    "import numpy as np\n",
    "\n",
    "import torch\n",
    "import torch.optim as optim\n",
    "import torch.nn  as nn\n",
    "\n",
    "from torch.utils.data import Dataset, TensorDataset, DataLoader\n",
    "from torch.utils.data.dataset import random_split\n",
    "from torch.utils.tensorboard import SummaryWriter\n",
    "\n",
    "from sklearn.linear_model import LinearRegression\n",
    "\n",
    "device = \"cuda\" if torch.cuda.is_available() else \"cpu\"\n",
    "print(device)"
   ]
  },
  {
   "cell_type": "code",
   "execution_count": 43,
   "id": "557d8e66",
   "metadata": {},
   "outputs": [],
   "source": [
    "true_w = 2\n",
    "true_b = 1\n",
    "N = 100\n",
    "\n",
    "np.random.seed(42)\n",
    "x = np.random.rand(N, 1)\n",
    "epsilon = 0.1 * np.random.randn(N ,1)\n",
    "y = true_b + (true_w* x) + epsilon\n",
    "\n",
    "idx = np.arange(N)\n",
    "np.random.shuffle(idx)\n",
    "\n",
    "train_idx = idx[: int(N * 0.8)]\n",
    "val_idx = idx[int(N * 0.8):]\n",
    "\n",
    "x_train, y_train = x[train_idx], y[train_idx]\n",
    "x_val, y_val = x[val_idx], y[val_idx]\n",
    "\n",
    "x_train_tensor = torch.as_tensor(x_train).float().to(device)\n",
    "y_train_tensor = torch.as_tensor(y_train).float().to(device)\n",
    "lr = 0.1\n",
    "\n",
    "torch.manual_seed(42)\n",
    "\n",
    "model = nn.Sequential(nn.Linear(1,1)).to(device=device)\n",
    "optimizer = optim.SGD(model.parameters(), lr=lr)\n",
    "loss_fn = nn.MSELoss(reduction=\"mean\") \n",
    "\n",
    "\n",
    "# n_epochs = 1000\n",
    "\n",
    "# for epoch in range(n_epochs):\n",
    "#     model.train()\n",
    "#     yhat = model(x_train_tensor)\n",
    "#     loss = loss_fn(yhat, y_train_tensor)\n",
    "#     loss.backward()\n",
    "#     optimizer.step()\n",
    "#     optimizer.zero_grad()\n",
    "# print(model.state_dict())"
   ]
  },
  {
   "cell_type": "code",
   "execution_count": 44,
   "id": "da529e4d",
   "metadata": {},
   "outputs": [],
   "source": [
    "# CustomDataset은 Dataset을 상속하고, 해당 클래스에서 필요한 매서드를 덮어씁니다.\n",
    "class CustomDataset(Dataset):\n",
    "    def __init__(self, x_tensor, y_tensor):\n",
    "        self.x = x_tensor\n",
    "        self.y = y_tensor\n",
    "\n",
    "    def __getitem__(self, index):\n",
    "        return (self.x[index], self.y[index])\n",
    "    \n",
    "    def __len__(self):\n",
    "        return len(self.x)    "
   ]
  },
  {
   "cell_type": "code",
   "execution_count": 45,
   "id": "9ce3a8b1",
   "metadata": {},
   "outputs": [],
   "source": [
    "rue_w = 2\n",
    "true_b = 1\n",
    "N = 100\n",
    "\n",
    "np.random.seed(42)\n",
    "x = np.random.rand(N, 1)\n",
    "epsilon = 0.1 * np.random.randn(N ,1)\n",
    "y = true_b + (true_w* x) + epsilon\n",
    "\n",
    "idx = np.arange(N)\n",
    "np.random.shuffle(idx)\n",
    "\n",
    "train_idx = idx[: int(N * 0.8)]\n",
    "val_idx = idx[int(N * 0.8):]\n",
    "\n",
    "x_train, y_train = x[train_idx], y[train_idx]\n",
    "x_val, y_val = x[val_idx], y[val_idx]\n",
    "\n",
    "x_train_tensor = torch.as_tensor(x_train).float().to(device)\n",
    "y_train_tensor = torch.as_tensor(y_train).float().to(device)\n",
    "\n",
    "dataset = CustomDataset(x_train_tensor, y_train_tensor)\n",
    "\n",
    "ratio = .8\n",
    "n_total = len(dataset)\n",
    "n_train = int(n_total * ratio)\n",
    "n_val = n_total - n_train\n",
    "\n",
    "train_data, val_data = random_split(dataset, [n_train, n_val])\n",
    "train_loader = DataLoader(dataset=train_data, batch_size=16, shuffle=True)\n",
    "val_loader = DataLoader(dataset=val_data, batch_size=16)"
   ]
  },
  {
   "cell_type": "code",
   "execution_count": 46,
   "id": "fa2d93ef",
   "metadata": {},
   "outputs": [],
   "source": [
    "lr = 0.1\n",
    "\n",
    "torch.manual_seed(42)\n",
    "\n",
    "model = nn.Sequential(nn.Linear(1,1)).to(device=device)\n",
    "optimizer = optim.SGD(model.parameters(), lr=lr)\n",
    "loss_fn = nn.MSELoss(reduction=\"mean\")"
   ]
  },
  {
   "cell_type": "markdown",
   "id": "14ad44c8",
   "metadata": {},
   "source": [
    "- 학습용"
   ]
  },
  {
   "cell_type": "code",
   "execution_count": 47,
   "id": "0bdc7a57",
   "metadata": {},
   "outputs": [],
   "source": [
    "def make_train_step_fn(model, loss_fn, optimizer):\n",
    "    def perform_train_step_fn(x, y):\n",
    "        model.train()\n",
    "        yhat = model(x)\n",
    "        loss = loss_fn(yhat, y)\n",
    "        loss.backward()\n",
    "        optimizer.step()\n",
    "        optimizer.zero_grad()\n",
    "        return loss.item()\n",
    "    return perform_train_step_fn"
   ]
  },
  {
   "cell_type": "markdown",
   "id": "c1105710",
   "metadata": {},
   "source": [
    "- 검증용"
   ]
  },
  {
   "cell_type": "code",
   "execution_count": 48,
   "id": "dfa0766c",
   "metadata": {},
   "outputs": [],
   "source": [
    "def make_val_step_fn(model, loss_fn):\n",
    "    def perform_val_step_fn(x, y):\n",
    "        model.eval()\n",
    "        yhat = model(x)\n",
    "        loss = loss_fn(yhat, y)\n",
    "        return loss.item()\n",
    "    return perform_val_step_fn"
   ]
  },
  {
   "cell_type": "markdown",
   "id": "5a395d63",
   "metadata": {},
   "source": [
    "- 작은 컴퓨터 메모리로 큰 데이터를 다루기 위해 해야 하는 과정"
   ]
  },
  {
   "cell_type": "code",
   "execution_count": 49,
   "id": "8b5e1a07",
   "metadata": {},
   "outputs": [],
   "source": [
    "def mini_batch(device, data_loader, step_fn):\n",
    "    mini_batch_losses = []\n",
    "    for x_batch, y_batch in data_loader:\n",
    "        x_batch = x_batch.to(device)\n",
    "        y_batch = y_batch.to(device)\n",
    "        mini_batch_loss = step_fn(x_batch, y_batch)\n",
    "        mini_batch_losses.append(mini_batch_loss)\n",
    "    loss = np.mean(mini_batch_losses)\n",
    "    return loss"
   ]
  },
  {
   "cell_type": "markdown",
   "id": "0a280843",
   "metadata": {},
   "source": [
    "- 오차를 줄이는 것에 목적에 가지기 때문에 오차를 보면서 튀는 값이 나오면 그 전까지만 학습시킬 거임"
   ]
  },
  {
   "cell_type": "code",
   "execution_count": 50,
   "id": "e065003e",
   "metadata": {},
   "outputs": [
    {
     "name": "stdout",
     "output_type": "stream",
     "text": [
      "OrderedDict([('0.weight', tensor([[1.9532]])), ('0.bias', tensor([1.0304]))])\n"
     ]
    }
   ],
   "source": [
    "n_epochs = 1000\n",
    "losses = [] \n",
    "train_step_fn = make_train_step_fn(model, loss_fn, optimizer)\n",
    "for epoch in range(n_epochs):\n",
    "    # loss = train_step_fn(x_train_tensor, y_train_tensor)\n",
    "    loss = mini_batch(device, train_loader, train_step_fn)\n",
    "    losses.append(loss)\n",
    "print(model.state_dict())"
   ]
  },
  {
   "cell_type": "code",
   "execution_count": 52,
   "id": "83a25a9f",
   "metadata": {},
   "outputs": [
    {
     "name": "stdout",
     "output_type": "stream",
     "text": [
      "OrderedDict([('0.weight', tensor([[1.9536]])), ('0.bias', tensor([1.0318]))])\n"
     ]
    }
   ],
   "source": [
    "n_epochs = 200\n",
    "losses = [] \n",
    "val_losses = []\n",
    "\n",
    "train_step_fn = make_train_step_fn(model, loss_fn, optimizer)\n",
    "val_step_fn = make_val_step_fn(model, loss_fn)\n",
    "\n",
    "write = SummaryWriter(\"runs/simple_linear_regression\")\n",
    "x_sample, y_sample = next(iter(train_loader))\n",
    "write.add_graph(model, x_sample.to(device))\n",
    "\n",
    "for epoch in range(n_epochs):\n",
    "    # loss = train_step_fn(x_train_tensor, y_train_tensor)\n",
    "    loss = mini_batch(device, train_loader, train_step_fn)\n",
    "    losses.append(loss)\n",
    "    with torch.no_grad():\n",
    "        val_loss = mini_batch(device, val_loader, val_step_fn)\n",
    "        val_losses.append(val_loss)\n",
    "    write.add_scalars(\n",
    "        main_tag=\"loss\",\n",
    "        tag_scalar_dict={\"training\":loss, \"validation\": val_loss},\n",
    "        global_step=epoch\n",
    "    )\n",
    "write.close()\n",
    "print(model.state_dict())"
   ]
  },
  {
   "cell_type": "code",
   "execution_count": 58,
   "id": "95b2b5be",
   "metadata": {},
   "outputs": [
    {
     "name": "stdout",
     "output_type": "stream",
     "text": [
      "The tensorboard extension is already loaded. To reload it, use:\n",
      "  %reload_ext tensorboard\n"
     ]
    },
    {
     "data": {
      "text/plain": [
       "Reusing TensorBoard on port 6006 (pid 22824), started 0:00:18 ago. (Use '!kill 22824' to kill it.)"
      ]
     },
     "metadata": {},
     "output_type": "display_data"
    },
    {
     "data": {
      "text/html": [
       "\n",
       "      <iframe id=\"tensorboard-frame-1d6cb14caab6d9cd\" width=\"100%\" height=\"800\" frameborder=\"0\">\n",
       "      </iframe>\n",
       "      <script>\n",
       "        (function() {\n",
       "          const frame = document.getElementById(\"tensorboard-frame-1d6cb14caab6d9cd\");\n",
       "          const url = new URL(\"http://localhost\");\n",
       "          const port = 6006;\n",
       "          if (port) {\n",
       "            url.port = port;\n",
       "          }\n",
       "          frame.src = url;\n",
       "        })();\n",
       "      </script>\n",
       "    "
      ],
      "text/plain": [
       "<IPython.core.display.HTML object>"
      ]
     },
     "metadata": {},
     "output_type": "display_data"
    }
   ],
   "source": [
    "%load_ext tensorboard\n",
    "%tensorboard --logdir runs"
   ]
  },
  {
   "cell_type": "markdown",
   "id": "8a0cdf59",
   "metadata": {},
   "source": [
    "- 상속은 상위에 있는 것을 하위에서 꼭 정의\n",
    "- 인터페이스는 기본적으로 계약관계,,, 반드시 구현하던가 마커?\n",
    "- 파이썬은 인터페이스 없다"
   ]
  }
 ],
 "metadata": {
  "kernelspec": {
   "display_name": "Python 3",
   "language": "python",
   "name": "python3"
  },
  "language_info": {
   "codemirror_mode": {
    "name": "ipython",
    "version": 3
   },
   "file_extension": ".py",
   "mimetype": "text/x-python",
   "name": "python",
   "nbconvert_exporter": "python",
   "pygments_lexer": "ipython3",
   "version": "3.9.13"
  }
 },
 "nbformat": 4,
 "nbformat_minor": 5
}
