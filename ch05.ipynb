{
 "cells": [
  {
   "cell_type": "code",
   "execution_count": 309,
   "id": "ac7af04a",
   "metadata": {},
   "outputs": [
    {
     "name": "stdout",
     "output_type": "stream",
     "text": [
      "GPU/CPU: cpu\n"
     ]
    }
   ],
   "source": [
    "import numpy as np\n",
    "import pandas as pd\n",
    "import matplotlib.pyplot as plt\n",
    "import torch\n",
    "import torch.nn as nn\n",
    "import torch.optim as optim\n",
    "from torch.utils.data import DataLoader\n",
    "import torchvision\n",
    "from torchvision import datasets, transforms\n",
    "from torch._C import _ImperativeEngine as ImperativeEngine\n",
    "from torch.autograd import Variable\n",
    "device = \"cuda\" if torch.cuda.is_available() else \"cpu\"\n",
    "print(f\"GPU/CPU: {device}\")"
   ]
  },
  {
   "cell_type": "code",
   "execution_count": 310,
   "id": "6b297186",
   "metadata": {},
   "outputs": [],
   "source": [
    "batch_size = 64\n",
    "lr = 0.001\n",
    "num_epochs = 20\n",
    "num_classes = 102"
   ]
  },
  {
   "cell_type": "markdown",
   "id": "a2b9d5c5",
   "metadata": {},
   "source": [
    "## 1. 전처리(이미지)"
   ]
  },
  {
   "cell_type": "markdown",
   "id": "20a31734",
   "metadata": {},
   "source": [
    "### 중요"
   ]
  },
  {
   "cell_type": "code",
   "execution_count": 311,
   "id": "83f466a6",
   "metadata": {},
   "outputs": [],
   "source": [
    "train_transforms = transforms.Compose([\n",
    "    transforms.Resize((32,32)), # 1. 이미지를 32, 32로 사이즈를 변경해야 함\n",
    "    transforms.RandomHorizontalFlip(p=0.5),\n",
    "    transforms.ToTensor(), # 2. 텐서로 변경해야 함\n",
    "])\n",
    "val_transforms = transforms.Compose([\n",
    "    transforms.Resize((32,32)),\n",
    "    transforms.ToTensor(),\n",
    "])"
   ]
  },
  {
   "cell_type": "markdown",
   "id": "7c9c4926",
   "metadata": {},
   "source": [
    "## 2. 데이터 불러오기"
   ]
  },
  {
   "cell_type": "code",
   "execution_count": 312,
   "id": "05e0d59a",
   "metadata": {},
   "outputs": [],
   "source": [
    "train_dataset = datasets.Flowers102(root=\"data\", split=\"train\", transform=train_transforms, download=True)\n",
    "val_dataset = datasets.Flowers102(root=\"data\", split=\"val\", transform=val_transforms, download=True)\n",
    "test_dataset = datasets.Flowers102(root=\"data\", split=\"test\", transform=val_transforms, download=True)"
   ]
  },
  {
   "cell_type": "code",
   "execution_count": 313,
   "id": "c7933518",
   "metadata": {},
   "outputs": [],
   "source": [
    "train_loader = DataLoader(train_dataset, batch_size=batch_size, shuffle=True)\n",
    "val_loader = DataLoader(val_dataset, batch_size=batch_size, shuffle=True)\n",
    "test_loader = DataLoader(test_dataset, batch_size=batch_size, shuffle=True)"
   ]
  },
  {
   "cell_type": "code",
   "execution_count": 314,
   "id": "22d3fb7e",
   "metadata": {},
   "outputs": [
    {
     "name": "stdout",
     "output_type": "stream",
     "text": [
      "훈련 데이터: 16\n",
      "훈련 데이터: 16\n",
      "훈련 데이터: 97\n"
     ]
    }
   ],
   "source": [
    "print(f\"훈련 데이터: {len(train_loader)}\")\n",
    "print(f\"훈련 데이터: {len(val_loader)}\")\n",
    "print(f\"훈련 데이터: {len(test_loader)}\")"
   ]
  },
  {
   "cell_type": "code",
   "execution_count": 315,
   "id": "e47cf392",
   "metadata": {},
   "outputs": [
    {
     "data": {
      "text/plain": [
       "torch.Size([64, 3, 32, 32])"
      ]
     },
     "execution_count": 315,
     "metadata": {},
     "output_type": "execute_result"
    }
   ],
   "source": [
    "data_iter = iter(train_loader)\n",
    "sample_batch = next(data_iter)\n",
    "sample_image, sample_label = sample_batch\n",
    "sample_image.shape"
   ]
  },
  {
   "cell_type": "markdown",
   "id": "de629cfd",
   "metadata": {},
   "source": [
    "## 모델 설계(수업에 사용된) 학습"
   ]
  },
  {
   "cell_type": "code",
   "execution_count": 316,
   "id": "5d4da7cd",
   "metadata": {},
   "outputs": [],
   "source": [
    "class LeNet5Classic(nn.Module):\n",
    "    def __init__(self, *args, **kwargs):\n",
    "        super(LeNet5Classic, self).__init__()\n",
    "        # conv1 -> conv2 -> conv3 -> fc1 -> fc2\n",
    "        self.conv1 = nn.Conv2d(3, 6, kernel_size=5)\n",
    "        self.conv2 = nn.Conv2d(6, 16, kernel_size=5)\n",
    "        self.conv3 = nn.Conv2d(16, 120, kernel_size=5)\n",
    "        self.fc1 = nn.Linear(120, 84)\n",
    "        self.fc2 = nn.Linear(84, num_classes)\n",
    "        self.relu = nn.ReLU()\n",
    "        self.pool = nn.AvgPool2d(kernel_size=2, stride=2)\n",
    "    def forward(self, x):\n",
    "        x = self.pool(self.relu(self.conv1(x))) # 32 * 32 * 3 -> 28 * 28 * 6 -> 14 * 14* 6\n",
    "        x = self.pool(self.relu(self.conv2(x))) # 14 * 14 * 6 -> 10 * 10 * 16 -> 5 * 5 * 16\n",
    "        x = self.relu(self.conv3(x))  # 5 * 5 * 16 -> 1 * 1 * 120\n",
    "        x = torch.flatten(x,1) # 120 // 중요 : 이렇게 해야 데이터를 선형모델에 넣을 수 있\n",
    "        x = self.relu(self.fc1(x)) # 120 -> 84\n",
    "        x = self.fc2(x) # 84 -> num_classes\n",
    "        return x"
   ]
  },
  {
   "cell_type": "code",
   "execution_count": 317,
   "id": "74f0d0bf",
   "metadata": {},
   "outputs": [],
   "source": [
    "class LeNet5Modern(nn.Module):\n",
    "    def __init__(self, *args, **kwargs):\n",
    "        super(LeNet5Modern, self).__init__()\n",
    "        # 특성추출\n",
    "        self.features = nn.Sequential(\n",
    "            # 첫번째 합성곱 레이어: 3 -> 6 채널\n",
    "            nn.Conv2d(in_channels=3, out_channels=6, kernel_size=5, stride=1, padding=0),\n",
    "            nn.BatchNorm2d(6),\n",
    "            nn.ReLU(inplace=True),\n",
    "            nn.MaxPool2d(kernel_size=2, stride=2),\n",
    "            # 두번째 합성곱 레이어: 6 -> 16 채널\n",
    "            nn.Conv2d(in_channels=6, out_channels=16, kernel_size=5, stride=1, padding=0),\n",
    "            nn.BatchNorm2d(16),\n",
    "            nn.ReLU(inplace=True),\n",
    "            nn.MaxPool2d(kernel_size=2, stride=2),\n",
    "            # 세번째 합성곱 레이어: 16 -> 120 채널 (특징이 120개 나온다고 생각)\n",
    "            nn.Conv2d(in_channels=16, out_channels=120, kernel_size=5, stride=1, padding=0),\n",
    "            nn.BatchNorm2d(120),\n",
    "            nn.ReLU(inplace=True),\n",
    "        )\n",
    "        # 분류\n",
    "        self.classifier = nn.Sequential(\n",
    "            nn.Dropout(0.5),\n",
    "            nn.Linear(120, 84),\n",
    "            nn.ReLU(inplace=True),\n",
    "            nn.Dropout(0.3),\n",
    "            nn.Linear(84, num_classes)\n",
    "        )\n",
    "    def _init_weights(self):\n",
    "        for m in self.modules():\n",
    "            if isinstance(m, nn.Conv2d):\n",
    "                nn.init.kaiming_normal_(m.weight, mode=\"fan-out\", nonlinearity=\"relu\")\n",
    "                if m.bias is not None:\n",
    "                    nn.init.constant_(m.bias, 0)\n",
    "            elif isinstance(m, nn.BatchNorm2d):\n",
    "                nn.init.constant_(m.weight, 1)\n",
    "                nn.init.constant_(m.bias, 0)\n",
    "            elif isinstance(m, nn.Linear):\n",
    "                nn.init.normal_(m.weight, 0, 0.01)\n",
    "                nn.init.constant_(m.bias, 0)\n",
    "    def forward(self, x):\n",
    "        pass"
   ]
  },
  {
   "cell_type": "code",
   "execution_count": 318,
   "id": "6ad4b117",
   "metadata": {},
   "outputs": [],
   "source": [
    "class Flowers102CNN(nn.Module):\n",
    "    def __init__(self):\n",
    "        super(Flowers102CNN, self).__init__()\n",
    "        self.layer1 = nn.Sequential(\n",
    "            nn.Conv2d(in_channels=3, out_channels=32, kernel_size=3, padding=1), # 32 * 32 * 3 가 들어가서 => 32 * 32 * 32 가 나옴 # Out = (입력크기 + 2*패딩 - 커널사이즈) / 1+1 = 32,\n",
    "            nn.BatchNorm2d(32), # 배치정규화(흩어져있는 특징 가운데로 모아줌) => 32\n",
    "            nn.ReLU(), # 32\n",
    "            nn.MaxPool2d(kernel_size=2, stride=2) # 16 * 16 * 32 => 입력된 이미지 사이즈가 작아짐\n",
    "        )\n",
    "        self.layer2 = nn.Sequential(\n",
    "            nn.Conv2d(in_channels=32, out_channels=64, kernel_size=3),\n",
    "            nn.BatchNorm2d(64),\n",
    "            nn.ReLU(), # 14 * 14 * 64\n",
    "            nn.MaxPool2d(kernel_size=2, stride=2) # 특성을 도드라지게 함\n",
    "        )\n",
    "        self.fc1 = nn.Linear(64 * 7 * 7, 512)\n",
    "        self.drop = nn.Dropout(0.5)\n",
    "        self.fc2 = nn.Linear(in_features=512, out_features=256)\n",
    "        self.drop = nn.Dropout(0.25)\n",
    "        self.fc3 = nn.Linear(in_features=256, out_features=num_classes)\n",
    "\n",
    "    def forward(self, x):\n",
    "        x = self.layer1(x)\n",
    "        x = self.layer2(x)\n",
    "        x = x.view(x.size(0), -1) # flatten\n",
    "        x = self.fc1(x)\n",
    "        x = self.drop(x)\n",
    "        x = self.fc2(x)\n",
    "        x = self.fc3(x)\n",
    "        return x\n",
    "\n",
    "model = Flowers102CNN()"
   ]
  },
  {
   "cell_type": "markdown",
   "id": "a08bae98",
   "metadata": {},
   "source": [
    "## 학습, 평가"
   ]
  },
  {
   "cell_type": "code",
   "execution_count": 319,
   "id": "f3192f12",
   "metadata": {},
   "outputs": [],
   "source": [
    "model = Flowers102CNN().to(device)\n",
    "criterion = nn.CrossEntropyLoss()\n",
    "optimizer = optim.Adam(model.parameters(), lr=lr)"
   ]
  },
  {
   "cell_type": "code",
   "execution_count": 320,
   "id": "f2bdc6e9",
   "metadata": {},
   "outputs": [],
   "source": [
    "def train_model(model, train_loader, criterion, optimizer, num_epochs=num_epochs):\n",
    "    model.train()\n",
    "    for epoch in range(num_epochs):\n",
    "        running_loss = 0.0\n",
    "        for images, labels in train_loader:\n",
    "            images, labels = images.to(device), labels.to(device)\n",
    "\n",
    "            # 순전파\n",
    "            outputs = model(images)\n",
    "            loss = criterion(outputs, labels)\n",
    "\n",
    "            # 역전파 및 최적화\n",
    "            optimizer.zero_grad()\n",
    "            loss.backward()\n",
    "            optimizer.step()\n",
    "\n",
    "            running_loss += loss.item()\n",
    "\n",
    "        print(f\"Epoch [{epoch + 1}/{num_epochs}], Loss: {running_loss / len(train_loader):.4f}\")\n",
    "\n",
    "def evaluate_model(model, test_loader):\n",
    "    model.eval()\n",
    "    correct = 0\n",
    "    total = 0\n",
    "    with torch.no_grad():\n",
    "        for images, labels in test_loader:\n",
    "            images, labels = images.to(device), labels.to(device)\n",
    "            outputs = model(images)\n",
    "            _, predicted = torch.max(outputs, 1)\n",
    "            total += labels.size(0)\n",
    "            correct += (predicted == labels).sum().item()\n",
    "\n",
    "    accuracy = 100 * correct / total\n",
    "    print(f\"Test Accuracy: {accuracy:.2f}%\")\n"
   ]
  },
  {
   "cell_type": "code",
   "execution_count": null,
   "id": "0744f885",
   "metadata": {},
   "outputs": [],
   "source": [
    "train_model(model, train_loader, criterion, optimizer, num_epochs=num_epochs)\n",
    "evaluate_model(model, test_loader)"
   ]
  }
 ],
 "metadata": {
  "kernelspec": {
   "display_name": "Python 3",
   "language": "python",
   "name": "python3"
  },
  "language_info": {
   "codemirror_mode": {
    "name": "ipython",
    "version": 3
   },
   "file_extension": ".py",
   "mimetype": "text/x-python",
   "name": "python",
   "nbconvert_exporter": "python",
   "pygments_lexer": "ipython3",
   "version": "3.9.13"
  }
 },
 "nbformat": 4,
 "nbformat_minor": 5
}
